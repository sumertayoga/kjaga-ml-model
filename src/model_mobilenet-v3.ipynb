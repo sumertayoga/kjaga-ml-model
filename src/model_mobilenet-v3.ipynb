{
 "cells": [
  {
   "cell_type": "code",
   "execution_count": 1,
   "metadata": {},
   "outputs": [],
   "source": [
    "import tensorflow as tf\n",
    "import tensorflow_hub as hub\n",
    "import matplotlib.pylab as plt\n",
    "import numpy as np\n",
    "from tensorflow.keras.preprocessing.image import ImageDataGenerator"
   ]
  },
  {
   "cell_type": "code",
   "execution_count": 2,
   "metadata": {},
   "outputs": [],
   "source": [
    "class myCallback (tf.keras.callbacks.Callback):\n",
    "    def on_epoch_end(self, epoch, logs={}):\n",
    "        if(logs.get('accuracy')>0.98 and logs.get('val_accuracy')>0.95):\n",
    "            print(\"\\nReached 85% accuracy so cancelling training!\")\n",
    "            self.model.stop_training = True"
   ]
  },
  {
   "cell_type": "code",
   "execution_count": 3,
   "metadata": {},
   "outputs": [],
   "source": [
    "def create_model():\n",
    "    mobilenet_v2 = \"https://www.kaggle.com/models/google/mobilenet-v3/frameworks/TensorFlow2/variations/small-100-224-feature-vector/versions/1\"\n",
    "    mobile_net_layers = hub.KerasLayer(mobilenet_v2, input_shape=(224,224,3))\n",
    "    mobile_net_layers.trainable = False\n",
    "\n",
    "    model = tf.keras.Sequential([\n",
    "        mobile_net_layers,\n",
    "        tf.keras.layers.Dropout(0.3),\n",
    "        tf.keras.layers.Dense(17,activation='softmax')\n",
    "    ])\n",
    "\n",
    "    model.compile(optimizer='adam',\n",
    "                  loss='categorical_crossentropy',\n",
    "                  metrics=['accuracy'])\n",
    "    \n",
    "    model.summary()\n",
    "\n",
    "    train_dir = '../data/training/'\n",
    "    validation_dir = '../data/validation/'\n",
    "\n",
    "    train_datagen = ImageDataGenerator(\n",
    "        rescale=1. / 255.,\n",
    "        rotation_range=40,\n",
    "        width_shift_range=0.2,\n",
    "        height_shift_range=0.2,\n",
    "        shear_range=0.2,\n",
    "        zoom_range=0.2,\n",
    "        horizontal_flip=True\n",
    "    )\n",
    "\n",
    "    validation_datagen = ImageDataGenerator(\n",
    "        rescale=1. / 255.\n",
    "    )\n",
    "\n",
    "    train_generator = train_datagen.flow_from_directory(\n",
    "        train_dir,\n",
    "        batch_size=5,\n",
    "        class_mode='categorical',\n",
    "        target_size=(224, 224)\n",
    "    )\n",
    "\n",
    "    validation_generator = validation_datagen.flow_from_directory(\n",
    "        validation_dir,\n",
    "        batch_size=5,\n",
    "        class_mode='categorical',\n",
    "        target_size=(224, 224)\n",
    "    )\n",
    "\n",
    "    callback = myCallback()\n",
    "\n",
    "    history = model.fit(\n",
    "        train_generator,\n",
    "        epochs=100,\n",
    "        validation_data=validation_generator,\n",
    "        callbacks=callback)\n",
    "    return model"
   ]
  },
  {
   "cell_type": "code",
   "execution_count": 4,
   "metadata": {},
   "outputs": [
    {
     "name": "stdout",
     "output_type": "stream",
     "text": [
      "Model: \"sequential\"\n",
      "_________________________________________________________________\n",
      " Layer (type)                Output Shape              Param #   \n",
      "=================================================================\n",
      " keras_layer (KerasLayer)    (None, 1024)              1529968   \n",
      "                                                                 \n",
      " dropout (Dropout)           (None, 1024)              0         \n",
      "                                                                 \n",
      " dense (Dense)               (None, 17)                17425     \n",
      "                                                                 \n",
      "=================================================================\n",
      "Total params: 1,547,393\n",
      "Trainable params: 17,425\n",
      "Non-trainable params: 1,529,968\n",
      "_________________________________________________________________\n",
      "Found 1067 images belonging to 17 classes.\n",
      "Found 162 images belonging to 17 classes.\n",
      "Epoch 1/100\n",
      "214/214 [==============================] - 34s 142ms/step - loss: 1.4648 - accuracy: 0.6082 - val_loss: 0.6771 - val_accuracy: 0.8827\n",
      "Epoch 2/100\n",
      "214/214 [==============================] - 15s 71ms/step - loss: 0.5546 - accuracy: 0.8622 - val_loss: 0.4004 - val_accuracy: 0.9259\n",
      "Epoch 3/100\n",
      "214/214 [==============================] - 15s 70ms/step - loss: 0.3915 - accuracy: 0.9035 - val_loss: 0.2970 - val_accuracy: 0.9383\n",
      "Epoch 4/100\n",
      "214/214 [==============================] - 14s 65ms/step - loss: 0.3156 - accuracy: 0.9306 - val_loss: 0.2324 - val_accuracy: 0.9568\n",
      "Epoch 5/100\n",
      "214/214 [==============================] - 14s 65ms/step - loss: 0.2738 - accuracy: 0.9231 - val_loss: 0.1979 - val_accuracy: 0.9506\n",
      "Epoch 6/100\n",
      "214/214 [==============================] - 14s 65ms/step - loss: 0.1942 - accuracy: 0.9569 - val_loss: 0.1806 - val_accuracy: 0.9691\n",
      "Epoch 7/100\n",
      "214/214 [==============================] - 14s 65ms/step - loss: 0.1895 - accuracy: 0.9560 - val_loss: 0.1712 - val_accuracy: 0.9630\n",
      "Epoch 8/100\n",
      "214/214 [==============================] - 14s 65ms/step - loss: 0.1630 - accuracy: 0.9616 - val_loss: 0.1431 - val_accuracy: 0.9691\n",
      "Epoch 9/100\n",
      "214/214 [==============================] - 14s 66ms/step - loss: 0.1525 - accuracy: 0.9644 - val_loss: 0.1286 - val_accuracy: 0.9691\n",
      "Epoch 10/100\n",
      "214/214 [==============================] - 14s 65ms/step - loss: 0.1555 - accuracy: 0.9578 - val_loss: 0.1262 - val_accuracy: 0.9691\n",
      "Epoch 11/100\n",
      "214/214 [==============================] - 14s 65ms/step - loss: 0.1272 - accuracy: 0.9672 - val_loss: 0.1202 - val_accuracy: 0.9691\n",
      "Epoch 12/100\n",
      "214/214 [==============================] - 14s 65ms/step - loss: 0.1218 - accuracy: 0.9709 - val_loss: 0.1017 - val_accuracy: 0.9753\n",
      "Epoch 13/100\n",
      "214/214 [==============================] - 14s 67ms/step - loss: 0.1076 - accuracy: 0.9766 - val_loss: 0.0972 - val_accuracy: 0.9753\n",
      "Epoch 14/100\n",
      "214/214 [==============================] - 14s 66ms/step - loss: 0.0919 - accuracy: 0.9728 - val_loss: 0.0943 - val_accuracy: 0.9691\n",
      "Epoch 15/100\n",
      "214/214 [==============================] - 14s 65ms/step - loss: 0.0898 - accuracy: 0.9766 - val_loss: 0.0874 - val_accuracy: 0.9691\n",
      "Epoch 16/100\n",
      "214/214 [==============================] - ETA: 0s - loss: 0.0788 - accuracy: 0.9822\n",
      "Reached 85% accuracy so cancelling training!\n",
      "214/214 [==============================] - 14s 64ms/step - loss: 0.0788 - accuracy: 0.9822 - val_loss: 0.0799 - val_accuracy: 0.9815\n"
     ]
    }
   ],
   "source": [
    "model = create_model()"
   ]
  },
  {
   "cell_type": "code",
   "execution_count": 5,
   "metadata": {},
   "outputs": [
    {
     "name": "stdout",
     "output_type": "stream",
     "text": [
      "1/1 [==============================] - 0s 451ms/step\n",
      "[[ 0.12534413  0.26473814  3.4306154   0.98068744  4.3005314   0.334012\n",
      "   0.2667377  40.746777    0.22943023  4.1489396  30.584538    5.4733057\n",
      "   0.8071917   3.473497    4.438968    0.17995077  0.21472429]]\n",
      "The predicted class is: 7\n"
     ]
    }
   ],
   "source": [
    "# Specify the local image path\n",
    "import numpy as np\n",
    "from tensorflow.keras.preprocessing import image\n",
    "from tensorflow.keras.applications.inception_v3 import preprocess_input\n",
    "\n",
    "local_image_path = '../data/validation/Nasi Goreng/menueditor_item_3fcdd0b34b984b60a963a5f4c78fbc85_1564688281409332709_jpg.rf.4fb497aa024ce40e93c27f7eb7d2d930.jpg'\n",
    "\n",
    "# Make predictions for the local image\n",
    "img = image.load_img(local_image_path, target_size=(224, 224))  # Adjust target_size as needed\n",
    "img_array = image.img_to_array(img)\n",
    "img_array = np.expand_dims(img_array, axis=0)\n",
    "img_array = preprocess_input(img_array)\n",
    "\n",
    "# Make predictions\n",
    "predictions = model.predict(img_array)\n",
    "print(predictions * 100)\n",
    "\n",
    "predicted_class = np.argmax(predictions)\n",
    "\n",
    "print(f\"The predicted class is: {predicted_class}\")"
   ]
  }
 ],
 "metadata": {
  "kernelspec": {
   "display_name": "Python 3",
   "language": "python",
   "name": "python3"
  },
  "language_info": {
   "codemirror_mode": {
    "name": "ipython",
    "version": 3
   },
   "file_extension": ".py",
   "mimetype": "text/x-python",
   "name": "python",
   "nbconvert_exporter": "python",
   "pygments_lexer": "ipython3",
   "version": "3.10.2"
  }
 },
 "nbformat": 4,
 "nbformat_minor": 2
}
