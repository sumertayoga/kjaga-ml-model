{
 "cells": [
  {
   "cell_type": "code",
   "execution_count": 2,
   "metadata": {},
   "outputs": [],
   "source": [
    "import tensorflow as tf\n",
    "import tensorflow_hub as hub\n",
    "import matplotlib.pylab as plt\n",
    "import numpy as np\n",
    "from tensorflow.keras.preprocessing.image import ImageDataGenerator\n"
   ]
  },
  {
   "cell_type": "code",
   "execution_count": 3,
   "metadata": {},
   "outputs": [],
   "source": [
    "class myCallback (tf.keras.callbacks.Callback):\n",
    "    def on_epoch_end(self, epoch, logs={}):\n",
    "        if(logs.get('accuracy')>0.98 and logs.get('val_accuracy')>0.85):\n",
    "            print(\"\\nReached 85% accuracy so cancelling training!\")\n",
    "            self.model.stop_training = True"
   ]
  },
  {
   "cell_type": "code",
   "execution_count": 4,
   "metadata": {},
   "outputs": [],
   "source": [
    "def create_model():\n",
    "    mobilenet_v2 = \"https://tfhub.dev/google/tf2-preview/mobilenet_v2/feature_vector/4\"\n",
    "    mobile_net_layers = hub.KerasLayer(mobilenet_v2, input_shape=(224,224,3))\n",
    "    mobile_net_layers.trainable = False\n",
    "\n",
    "    model = tf.keras.Sequential([\n",
    "        mobile_net_layers,\n",
    "        tf.keras.layers.Dropout(0.3),\n",
    "        tf.keras.layers.Dense(9,activation='softmax')\n",
    "    ])\n",
    "\n",
    "    model.compile(optimizer='adam',\n",
    "                  loss='categorical_crossentropy',\n",
    "                  metrics=['accuracy'])\n",
    "    \n",
    "    model.summary()\n",
    "\n",
    "    train_dir = '../data/training/'\n",
    "    validation_dir = '../data/validation/'\n",
    "\n",
    "    train_datagen = ImageDataGenerator(\n",
    "        rescale=1. / 255.,\n",
    "        rotation_range=40,\n",
    "        width_shift_range=0.2,\n",
    "        height_shift_range=0.2,\n",
    "        shear_range=0.2,\n",
    "        zoom_range=0.2,\n",
    "        horizontal_flip=True\n",
    "    )\n",
    "\n",
    "    validation_datagen = ImageDataGenerator(\n",
    "        rescale=1. / 255.\n",
    "    )\n",
    "\n",
    "    train_generator = train_datagen.flow_from_directory(\n",
    "        train_dir,\n",
    "        batch_size=5,\n",
    "        class_mode='categorical',\n",
    "        target_size=(224, 224)\n",
    "    )\n",
    "\n",
    "    validation_generator = validation_datagen.flow_from_directory(\n",
    "        validation_dir,\n",
    "        batch_size=5,\n",
    "        class_mode='categorical',\n",
    "        target_size=(224, 224)\n",
    "    )\n",
    "\n",
    "    callback = myCallback()\n",
    "\n",
    "    history = model.fit(\n",
    "        train_generator,\n",
    "        epochs=100,\n",
    "        validation_data=validation_generator,\n",
    "        callbacks=callback)\n",
    "    return model\n",
    "\n"
   ]
  },
  {
   "cell_type": "code",
   "execution_count": 5,
   "metadata": {},
   "outputs": [
    {
     "name": "stdout",
     "output_type": "stream",
     "text": [
      "Model: \"sequential\"\n",
      "_________________________________________________________________\n",
      " Layer (type)                Output Shape              Param #   \n",
      "=================================================================\n",
      " keras_layer (KerasLayer)    (None, 1280)              2257984   \n",
      "                                                                 \n",
      " dropout (Dropout)           (None, 1280)              0         \n",
      "                                                                 \n",
      " dense (Dense)               (None, 9)                 11529     \n",
      "                                                                 \n",
      "=================================================================\n",
      "Total params: 2,269,513\n",
      "Trainable params: 11,529\n",
      "Non-trainable params: 2,257,984\n",
      "_________________________________________________________________\n",
      "Found 317 images belonging to 9 classes.\n",
      "Found 82 images belonging to 9 classes.\n",
      "Epoch 1/100\n",
      "64/64 [==============================] - 17s 207ms/step - loss: 2.0015 - accuracy: 0.3060 - val_loss: 1.0877 - val_accuracy: 0.6829\n",
      "Epoch 2/100\n",
      "64/64 [==============================] - 8s 129ms/step - loss: 0.9311 - accuracy: 0.7066 - val_loss: 0.7616 - val_accuracy: 0.7683\n",
      "Epoch 3/100\n",
      "64/64 [==============================] - 9s 135ms/step - loss: 0.6755 - accuracy: 0.7918 - val_loss: 0.6140 - val_accuracy: 0.8293\n",
      "Epoch 4/100\n",
      "64/64 [==============================] - 8s 117ms/step - loss: 0.4858 - accuracy: 0.8549 - val_loss: 0.5825 - val_accuracy: 0.8049\n",
      "Epoch 5/100\n",
      "64/64 [==============================] - 7s 115ms/step - loss: 0.4125 - accuracy: 0.8738 - val_loss: 0.5045 - val_accuracy: 0.8780\n",
      "Epoch 6/100\n",
      "64/64 [==============================] - 8s 117ms/step - loss: 0.3296 - accuracy: 0.8991 - val_loss: 0.4885 - val_accuracy: 0.8902\n",
      "Epoch 7/100\n",
      "64/64 [==============================] - 8s 118ms/step - loss: 0.2864 - accuracy: 0.9243 - val_loss: 0.5418 - val_accuracy: 0.8780\n",
      "Epoch 8/100\n",
      "64/64 [==============================] - 8s 117ms/step - loss: 0.2370 - accuracy: 0.9338 - val_loss: 0.4892 - val_accuracy: 0.8537\n",
      "Epoch 9/100\n",
      "64/64 [==============================] - 8s 119ms/step - loss: 0.2342 - accuracy: 0.9211 - val_loss: 0.5270 - val_accuracy: 0.8415\n",
      "Epoch 10/100\n",
      "64/64 [==============================] - 8s 118ms/step - loss: 0.1895 - accuracy: 0.9369 - val_loss: 0.5001 - val_accuracy: 0.8537\n",
      "Epoch 11/100\n",
      "64/64 [==============================] - 8s 131ms/step - loss: 0.1721 - accuracy: 0.9716 - val_loss: 0.4622 - val_accuracy: 0.8415\n",
      "Epoch 12/100\n",
      "64/64 [==============================] - 8s 119ms/step - loss: 0.1816 - accuracy: 0.9464 - val_loss: 0.4988 - val_accuracy: 0.8659\n",
      "Epoch 13/100\n",
      "64/64 [==============================] - 8s 125ms/step - loss: 0.1688 - accuracy: 0.9590 - val_loss: 0.5005 - val_accuracy: 0.8537\n",
      "Epoch 14/100\n",
      "64/64 [==============================] - 8s 126ms/step - loss: 0.1473 - accuracy: 0.9748 - val_loss: 0.4851 - val_accuracy: 0.8537\n",
      "Epoch 15/100\n",
      "64/64 [==============================] - 9s 133ms/step - loss: 0.1483 - accuracy: 0.9653 - val_loss: 0.4907 - val_accuracy: 0.8537\n",
      "Epoch 16/100\n",
      "64/64 [==============================] - ETA: 0s - loss: 0.0984 - accuracy: 0.9874\n",
      "Reached 85% accuracy so cancelling training!\n",
      "64/64 [==============================] - 8s 121ms/step - loss: 0.0984 - accuracy: 0.9874 - val_loss: 0.4776 - val_accuracy: 0.8780\n"
     ]
    }
   ],
   "source": [
    "model = create_model()"
   ]
  },
  {
   "cell_type": "code",
   "execution_count": 14,
   "metadata": {},
   "outputs": [
    {
     "name": "stdout",
     "output_type": "stream",
     "text": [
      "1/1 [==============================] - 0s 44ms/step\n",
      "[[2.8212075e-03 1.5857372e-02 7.8405184e-04 2.2272839e-05 2.7531825e-03\n",
      "  4.9960145e-01 4.3740121e-01 4.0057961e-02 7.0131844e-04]]\n",
      "The predicted class is: 5\n"
     ]
    }
   ],
   "source": [
    "# Specify the local image path\n",
    "import numpy as np\n",
    "from tensorflow.keras.preprocessing import image\n",
    "from tensorflow.keras.applications.inception_v3 import preprocess_input\n",
    "\n",
    "local_image_path = '../data/validation/Tempe Goreng/tempe-goreng-masako-foto-resep-utama.jpg'\n",
    "\n",
    "# Make predictions for the local image\n",
    "img = image.load_img(local_image_path, target_size=(224, 224))  # Adjust target_size as needed\n",
    "img_array = image.img_to_array(img)\n",
    "img_array = np.expand_dims(img_array, axis=0)\n",
    "img_array = preprocess_input(img_array)\n",
    "\n",
    "# Make predictions\n",
    "predictions = model.predict(img_array)\n",
    "print(predictions)\n",
    "\n",
    "predicted_class = np.argmax(predictions)\n",
    "\n",
    "print(f\"The predicted class is: {predicted_class}\")"
   ]
  }
 ],
 "metadata": {
  "kernelspec": {
   "display_name": "Python 3",
   "language": "python",
   "name": "python3"
  },
  "language_info": {
   "codemirror_mode": {
    "name": "ipython",
    "version": 3
   },
   "file_extension": ".py",
   "mimetype": "text/x-python",
   "name": "python",
   "nbconvert_exporter": "python",
   "pygments_lexer": "ipython3",
   "version": "3.10.2"
  }
 },
 "nbformat": 4,
 "nbformat_minor": 2
}
